{
 "cells": [
  {
   "attachments": {},
   "cell_type": "markdown",
   "metadata": {},
   "source": [
    "Importing the required librarires\n"
   ]
  },
  {
   "cell_type": "code",
   "execution_count": null,
   "metadata": {},
   "outputs": [],
   "source": [
    "import pandas as pd\n",
    "import numpy as np\n",
    "from sklearn.feature_extraction.text import TfidfVectorizer\n",
    "from sklearn.metrics.pairwise import cosine_similarity"
   ]
  },
  {
   "attachments": {},
   "cell_type": "markdown",
   "metadata": {},
   "source": [
    "Reading the data"
   ]
  },
  {
   "cell_type": "code",
   "execution_count": null,
   "metadata": {},
   "outputs": [],
   "source": [
    "df= pd.read_csv('data\\data_with_tags.csv')\n",
    "df.head()"
   ]
  },
  {
   "attachments": {},
   "cell_type": "markdown",
   "metadata": {},
   "source": [
    "Recommendation Function"
   ]
  },
  {
   "cell_type": "code",
   "execution_count": null,
   "metadata": {},
   "outputs": [],
   "source": [
    "def get_recommendation_tfidf_cosinSim(user_record,data=df):\n",
    "  df.loc[len(df)]=user_record\n",
    "  tfv= TfidfVectorizer(min_df=3, max_features=None, strip_accents='unicode',analyzer='word',token_pattern=r'\\w{1,}',ngram_range=(1,3),stop_words='english')\n",
    "  df['tags']=df['tags'].fillna('')\n",
    "  tfv_matrix=tfv.fit_transform(df['tags'])\n",
    "  cos_sim=cosine_similarity(tfv_matrix,tfv_matrix)\n",
    "  indices=pd.Series(df.index,index=df['Title']).drop_duplicates()\n",
    "  idx=indices[user_record['Title']]\n",
    "  # print('title',user_record['Title'])\n",
    "  # print('idx',idx)\n",
    "  cosSim_scores=list(enumerate(cos_sim[idx]))\n",
    "  cosSim_scores=sorted(cosSim_scores,key=lambda x:x[1],reverse=True)\n",
    "  cosSim_scores=cosSim_scores[1:16]\n",
    "  course_indices=[i[0] for i in cosSim_scores]\n",
    "  df_new=df.iloc[course_indices]\n",
    "  df_new=df_new.sort_values(by=['Stars'],ascending=False)\n",
    "  return df_new"
   ]
  },
  {
   "cell_type": "code",
   "execution_count": null,
   "metadata": {},
   "outputs": [],
   "source": [
    "id=df.shape[0]+1\n",
    "title='user_rec'+str(id)\n",
    "user_record={'Sno':id,'Title':title,'Stars':'0','Link':'none','tags':'tableu,data analytics'}\n",
    "print(df.shape)\n",
    "recommendations=get_recommendation_tfidf_cosinSim(user_record)"
   ]
  }
 ],
 "metadata": {
  "language_info": {
   "name": "python"
  },
  "orig_nbformat": 4
 },
 "nbformat": 4,
 "nbformat_minor": 2
}
