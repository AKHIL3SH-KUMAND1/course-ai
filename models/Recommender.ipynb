{
  "cells": [
    {
      "cell_type": "code",
      "execution_count": 1,
      "metadata": {
        "id": "ekSDmJXZRONE"
      },
      "outputs": [],
      "source": [
        "import pandas as pd\n",
        "import numpy as np"
      ]
    },
    {
      "cell_type": "code",
      "execution_count": 2,
      "metadata": {
        "colab": {
          "base_uri": "https://localhost:8080/",
          "height": 337
        },
        "id": "WJ0X7wA5d1ss",
        "outputId": "7123121a-28c8-45ea-ca28-15b88b5e34b6"
      },
      "outputs": [
        {
          "data": {
            "text/html": [
              "\n",
              "  <div id=\"df-40399fc0-84e3-4e17-973a-a20f4515414f\">\n",
              "    <div class=\"colab-df-container\">\n",
              "      <div>\n",
              "<style scoped>\n",
              "    .dataframe tbody tr th:only-of-type {\n",
              "        vertical-align: middle;\n",
              "    }\n",
              "\n",
              "    .dataframe tbody tr th {\n",
              "        vertical-align: top;\n",
              "    }\n",
              "\n",
              "    .dataframe thead th {\n",
              "        text-align: right;\n",
              "    }\n",
              "</style>\n",
              "<table border=\"1\" class=\"dataframe\">\n",
              "  <thead>\n",
              "    <tr style=\"text-align: right;\">\n",
              "      <th></th>\n",
              "      <th>Sno</th>\n",
              "      <th>Title</th>\n",
              "      <th>Stars</th>\n",
              "      <th>Link</th>\n",
              "      <th>tags</th>\n",
              "    </tr>\n",
              "  </thead>\n",
              "  <tbody>\n",
              "    <tr>\n",
              "      <th>0</th>\n",
              "      <td>0</td>\n",
              "      <td>The Ultimate Drawing Course - Beginner to Adva...</td>\n",
              "      <td>4.5</td>\n",
              "      <td>https://www.udemy.com/course/the-ultimate-draw...</td>\n",
              "      <td>learn 1 important building block ar</td>\n",
              "    </tr>\n",
              "    <tr>\n",
              "      <th>1</th>\n",
              "      <td>1</td>\n",
              "      <td>Character Art School: Complete Character Drawi...</td>\n",
              "      <td>4.5</td>\n",
              "      <td>https://www.udemy.com/course/character-art-sch...</td>\n",
              "      <td>learn draw people character designs profession...</td>\n",
              "    </tr>\n",
              "    <tr>\n",
              "      <th>2</th>\n",
              "      <td>2</td>\n",
              "      <td>Complete Blender Creator: Learn 3D Modelling f...</td>\n",
              "      <td>4.6</td>\n",
              "      <td>https://www.udemy.com/course/blendertutorial/</td>\n",
              "      <td>use blender create beautiful 3d models video g...</td>\n",
              "    </tr>\n",
              "    <tr>\n",
              "      <th>3</th>\n",
              "      <td>3</td>\n",
              "      <td>Design Thinking in 3 Steps</td>\n",
              "      <td>4.4</td>\n",
              "      <td>https://www.udemy.com/course/designit-design-t...</td>\n",
              "      <td>understand audience envision creative solution...</td>\n",
              "    </tr>\n",
              "    <tr>\n",
              "      <th>4</th>\n",
              "      <td>4</td>\n",
              "      <td>Illustrator CC 2020 MasterClass</td>\n",
              "      <td>4.6</td>\n",
              "      <td>https://www.udemy.com/course/illustrator-cc-ma...</td>\n",
              "      <td>master adobe illustrator cc in-depth training ...</td>\n",
              "    </tr>\n",
              "  </tbody>\n",
              "</table>\n",
              "</div>\n",
              "      <button class=\"colab-df-convert\" onclick=\"convertToInteractive('df-40399fc0-84e3-4e17-973a-a20f4515414f')\"\n",
              "              title=\"Convert this dataframe to an interactive table.\"\n",
              "              style=\"display:none;\">\n",
              "        \n",
              "  <svg xmlns=\"http://www.w3.org/2000/svg\" height=\"24px\"viewBox=\"0 0 24 24\"\n",
              "       width=\"24px\">\n",
              "    <path d=\"M0 0h24v24H0V0z\" fill=\"none\"/>\n",
              "    <path d=\"M18.56 5.44l.94 2.06.94-2.06 2.06-.94-2.06-.94-.94-2.06-.94 2.06-2.06.94zm-11 1L8.5 8.5l.94-2.06 2.06-.94-2.06-.94L8.5 2.5l-.94 2.06-2.06.94zm10 10l.94 2.06.94-2.06 2.06-.94-2.06-.94-.94-2.06-.94 2.06-2.06.94z\"/><path d=\"M17.41 7.96l-1.37-1.37c-.4-.4-.92-.59-1.43-.59-.52 0-1.04.2-1.43.59L10.3 9.45l-7.72 7.72c-.78.78-.78 2.05 0 2.83L4 21.41c.39.39.9.59 1.41.59.51 0 1.02-.2 1.41-.59l7.78-7.78 2.81-2.81c.8-.78.8-2.07 0-2.86zM5.41 20L4 18.59l7.72-7.72 1.47 1.35L5.41 20z\"/>\n",
              "  </svg>\n",
              "      </button>\n",
              "      \n",
              "  <style>\n",
              "    .colab-df-container {\n",
              "      display:flex;\n",
              "      flex-wrap:wrap;\n",
              "      gap: 12px;\n",
              "    }\n",
              "\n",
              "    .colab-df-convert {\n",
              "      background-color: #E8F0FE;\n",
              "      border: none;\n",
              "      border-radius: 50%;\n",
              "      cursor: pointer;\n",
              "      display: none;\n",
              "      fill: #1967D2;\n",
              "      height: 32px;\n",
              "      padding: 0 0 0 0;\n",
              "      width: 32px;\n",
              "    }\n",
              "\n",
              "    .colab-df-convert:hover {\n",
              "      background-color: #E2EBFA;\n",
              "      box-shadow: 0px 1px 2px rgba(60, 64, 67, 0.3), 0px 1px 3px 1px rgba(60, 64, 67, 0.15);\n",
              "      fill: #174EA6;\n",
              "    }\n",
              "\n",
              "    [theme=dark] .colab-df-convert {\n",
              "      background-color: #3B4455;\n",
              "      fill: #D2E3FC;\n",
              "    }\n",
              "\n",
              "    [theme=dark] .colab-df-convert:hover {\n",
              "      background-color: #434B5C;\n",
              "      box-shadow: 0px 1px 3px 1px rgba(0, 0, 0, 0.15);\n",
              "      filter: drop-shadow(0px 1px 2px rgba(0, 0, 0, 0.3));\n",
              "      fill: #FFFFFF;\n",
              "    }\n",
              "  </style>\n",
              "\n",
              "      <script>\n",
              "        const buttonEl =\n",
              "          document.querySelector('#df-40399fc0-84e3-4e17-973a-a20f4515414f button.colab-df-convert');\n",
              "        buttonEl.style.display =\n",
              "          google.colab.kernel.accessAllowed ? 'block' : 'none';\n",
              "\n",
              "        async function convertToInteractive(key) {\n",
              "          const element = document.querySelector('#df-40399fc0-84e3-4e17-973a-a20f4515414f');\n",
              "          const dataTable =\n",
              "            await google.colab.kernel.invokeFunction('convertToInteractive',\n",
              "                                                     [key], {});\n",
              "          if (!dataTable) return;\n",
              "\n",
              "          const docLinkHtml = 'Like what you see? Visit the ' +\n",
              "            '<a target=\"_blank\" href=https://colab.research.google.com/notebooks/data_table.ipynb>data table notebook</a>'\n",
              "            + ' to learn more about interactive tables.';\n",
              "          element.innerHTML = '';\n",
              "          dataTable['output_type'] = 'display_data';\n",
              "          await google.colab.output.renderOutput(dataTable, element);\n",
              "          const docLink = document.createElement('div');\n",
              "          docLink.innerHTML = docLinkHtml;\n",
              "          element.appendChild(docLink);\n",
              "        }\n",
              "      </script>\n",
              "    </div>\n",
              "  </div>\n",
              "  "
            ],
            "text/plain": [
              "   Sno                                              Title Stars  \\\n",
              "0    0  The Ultimate Drawing Course - Beginner to Adva...   4.5   \n",
              "1    1  Character Art School: Complete Character Drawi...   4.5   \n",
              "2    2  Complete Blender Creator: Learn 3D Modelling f...   4.6   \n",
              "3    3                         Design Thinking in 3 Steps   4.4   \n",
              "4    4                    Illustrator CC 2020 MasterClass   4.6   \n",
              "\n",
              "                                                Link  \\\n",
              "0  https://www.udemy.com/course/the-ultimate-draw...   \n",
              "1  https://www.udemy.com/course/character-art-sch...   \n",
              "2      https://www.udemy.com/course/blendertutorial/   \n",
              "3  https://www.udemy.com/course/designit-design-t...   \n",
              "4  https://www.udemy.com/course/illustrator-cc-ma...   \n",
              "\n",
              "                                                tags  \n",
              "0                learn 1 important building block ar  \n",
              "1  learn draw people character designs profession...  \n",
              "2  use blender create beautiful 3d models video g...  \n",
              "3  understand audience envision creative solution...  \n",
              "4  master adobe illustrator cc in-depth training ...  "
            ]
          },
          "execution_count": 2,
          "metadata": {},
          "output_type": "execute_result"
        }
      ],
      "source": [
        "df= pd.read_csv('/content/data_with_tags.csv')\n",
        "df.head()\n"
      ]
    },
    {
      "cell_type": "code",
      "execution_count": 3,
      "metadata": {
        "id": "2zSy0UsPd86G"
      },
      "outputs": [],
      "source": [
        "from sklearn.feature_extraction.text import TfidfVectorizer\n",
        "from sklearn.metrics.pairwise import cosine_similarity\n",
        "from sklearn.feature_extraction.text import CountVectorizer\n",
        "from sklearn.cluster import KMeans\n",
        "from sklearn.metrics import silhouette_score\n",
        "import matplotlib.pyplot as plt\n",
        "from sklearn.decomposition import TruncatedSVD\n"
      ]
    },
    {
      "cell_type": "code",
      "execution_count": 4,
      "metadata": {
        "id": "70gVQhTXg-B2"
      },
      "outputs": [],
      "source": [
        "# tfv_matrix=tfv.fit_transform(df['tags'])"
      ]
    },
    {
      "cell_type": "code",
      "execution_count": 5,
      "metadata": {
        "id": "VPFMD_SKoGvL"
      },
      "outputs": [],
      "source": [
        "def get_recommendation_tfidf_cosinSim(user_record,df):\n",
        "  data=df\n",
        "  data.loc[len(df)]=user_record\n",
        "  tfv= TfidfVectorizer(min_df=3, max_features=None, strip_accents='unicode',analyzer='word',token_pattern=r'\\w{1,}',ngram_range=(1,3),stop_words='english')\n",
        "  data['tags']=data['tags'].fillna('')\n",
        "  tfv_matrix=tfv.fit_transform(data['tags'])\n",
        "  # k-means clustering \n",
        "  kmeans_tfidf = KMeans(n_clusters=10, random_state=42).fit(tfv_matrix)\n",
        "  # sillhouette score\n",
        "  tfidf_silhouette_score = silhouette_score(tfv_matrix, kmeans_tfidf.labels_)\n",
        "  #average similarity between all pairs of documents in the dataset \n",
        "  cos_sim=cosine_similarity(tfv_matrix,tfv_matrix)\n",
        "  tfidf_avg_similarity = np.mean(cos_sim)\n",
        "  # performance evaluation metrics of tfidf \n",
        "  # - print('tfidf silhouette score-',tfidf_silhouette_score)\n",
        "  # - print('tfidf avg. similarity-',tfidf_avg_similarity)\n",
        "  #to retrive top recommended courses\n",
        "  indices=pd.Series(df.index,index=data['Title']).drop_duplicates()\n",
        "  idx=indices[user_record['Title']]\n",
        "  cosSim_scores=list(enumerate(cos_sim[idx]))\n",
        "  cosSim_scores=sorted(cosSim_scores,key=lambda x:x[1],reverse=True)\n",
        "  cosSim_scores=cosSim_scores[1:16]\n",
        "  course_indices=[i[0] for i in cosSim_scores]\n",
        "  df_new=df.iloc[course_indices]\n",
        "  df_new=df_new.sort_values(by=['Stars'],ascending=False)\n",
        "  return [df_new,tfidf_silhouette_score,tfidf_avg_similarity,cos_sim]"
      ]
    },
    {
      "cell_type": "code",
      "execution_count": 6,
      "metadata": {
        "id": "JY-ic4UPDe72"
      },
      "outputs": [],
      "source": [
        "def get_recommendation_countVector_cosinSim(user_record,df):\n",
        "  data=df\n",
        "  data.loc[len(df)]=user_record\n",
        "  cv= CountVectorizer(min_df=3, max_features=None, strip_accents='unicode',analyzer='word',token_pattern=r'\\w{1,}',ngram_range=(1,3),stop_words='english')\n",
        "  data['tags']=data['tags'].fillna('')\n",
        "  cv_matrix=cv.fit_transform(data['tags'])\n",
        "  # k-means clustering \n",
        "  kmeans_cv = KMeans(n_clusters=10, random_state=42).fit(cv_matrix)\n",
        "  # sillhouette score\n",
        "  cv_silhouette_score = silhouette_score(cv_matrix, kmeans_cv.labels_)\n",
        "  #average similarity between all pairs of documents in the dataset \n",
        "  cos_sim=cosine_similarity(cv_matrix,cv_matrix)\n",
        "  cv_avg_similarity = np.mean(cos_sim)\n",
        "  # performance evaluation metrics of tfidf \n",
        "  # - print('count vector silhouette score-',cv_silhouette_score)\n",
        "  # - print('count vector avg. similarity-',cv_avg_similarity)\n",
        "  #to retrive top recommended courses\n",
        "  indices=pd.Series(df.index,index=data['Title']).drop_duplicates()\n",
        "  idx=indices[user_record['Title']]\n",
        "  cosSim_scores=list(enumerate(cos_sim[idx]))\n",
        "  cosSim_scores=sorted(cosSim_scores,key=lambda x:x[1],reverse=True)\n",
        "  cosSim_scores=cosSim_scores[1:16]\n",
        "  course_indices=[i[0] for i in cosSim_scores]\n",
        "  df_new=df.iloc[course_indices]\n",
        "  df_new=df_new.sort_values(by=['Stars'],ascending=False)\n",
        "  return [df_new,cv_silhouette_score,cv_avg_similarity,cos_sim]\n"
      ]
    },
    {
      "cell_type": "code",
      "execution_count": 7,
      "metadata": {
        "colab": {
          "base_uri": "https://localhost:8080/"
        },
        "id": "B_JrfXuYpguE",
        "outputId": "d4ae4640-2524-4a61-ec79-a44372027c4d"
      },
      "outputs": [
        {
          "name": "stdout",
          "output_type": "stream",
          "text": [
            "(23448, 5)\n"
          ]
        },
        {
          "name": "stderr",
          "output_type": "stream",
          "text": [
            "/usr/local/lib/python3.9/dist-packages/sklearn/cluster/_kmeans.py:870: FutureWarning: The default value of `n_init` will change from 10 to 'auto' in 1.4. Set the value of `n_init` explicitly to suppress the warning\n",
            "  warnings.warn(\n"
          ]
        }
      ],
      "source": [
        "id=df.shape[0]+1\n",
        "title='user_rec'+str(id)\n",
        "user_record={'Sno':id,'Title':title,'Stars':'0','Link':'none','tags':'netbeans,mysql database design,basic c,basic programming,basic html,htmlandxml,basic java,linux,object oriented perl,mysql,javascript,vbnet,html 5,jquery ui,aspnet,css3,visual paradigm,c,perl automation,java,notepad,basic photoshop,archimate,perl,jquery,css,asp,visual studio,web designing,eclipse,microsoft sql server,servlets,core java,web development,sql,web applications,vb 60,jsp,oracle 10g,shell scripting,microsoft office,ajax,net,basic sql,editorial strategy,php'}\n",
        "print(df.shape)\n",
        "recommedations_1,tfidf_silhouette_score,tfidf_avg_similarity,similarity_matrix1=get_recommendation_tfidf_cosinSim(user_record,df)"
      ]
    },
    {
      "cell_type": "code",
      "execution_count": 8,
      "metadata": {
        "colab": {
          "base_uri": "https://localhost:8080/"
        },
        "id": "CI7CK_U58OCx",
        "outputId": "48615191-9636-4094-85dd-0b02e1b741ef"
      },
      "outputs": [
        {
          "name": "stderr",
          "output_type": "stream",
          "text": [
            "/usr/local/lib/python3.9/dist-packages/sklearn/cluster/_kmeans.py:870: FutureWarning: The default value of `n_init` will change from 10 to 'auto' in 1.4. Set the value of `n_init` explicitly to suppress the warning\n",
            "  warnings.warn(\n"
          ]
        }
      ],
      "source": [
        "id=df.shape[0]+1\n",
        "title='user_rec'+str(id)\n",
        "user_record={'Sno':id,'Title':title,'Stars':'0','Link':'none','tags':'netbeans,mysql database design,basic c,basic programming,basic html,htmlandxml,basic java,linux,object oriented perl,mysql,javascript,vbnet,html 5,jquery ui,aspnet,css3,visual paradigm,c,perl automation,java,notepad,basic photoshop,archimate,perl,jquery,css,asp,visual studio,web designing,eclipse,microsoft sql server,servlets,core java,web development,sql,web applications,vb 60,jsp,oracle 10g,shell scripting,microsoft office,ajax,net,basic sql,editorial strategy,php'}\n",
        "recommedations_2,cv_silhouette_score,cv_avg_similarity,similarity_matrix2=get_recommendation_countVector_cosinSim(user_record,df)"
      ]
    },
    {
      "cell_type": "code",
      "execution_count": 9,
      "metadata": {
        "colab": {
          "base_uri": "https://localhost:8080/",
          "height": 472
        },
        "id": "oDqAA7u_UTK7",
        "outputId": "36a6ad67-48d3-435f-9d1d-1f42dececd3f"
      },
      "outputs": [
        {
          "data": {
            "image/png": "[encoded data removed]",
            "text/plain": [
              "<Figure size 640x480 with 1 Axes>"
            ]
          },
          "metadata": {},
          "output_type": "display_data"
        }
      ],
      "source": [
        "plt.bar(['TF-IDF', 'Count Vectorizer'], [tfidf_silhouette_score, cv_silhouette_score])\n",
        "plt.title(\"Silhouette Score Comparison\")\n",
        "plt.xlabel(\"Vectorizer\")\n",
        "plt.ylabel(\"Silhouette Score\")\n",
        "plt.show()"
      ]
    },
    {
      "cell_type": "code",
      "execution_count": 10,
      "metadata": {
        "colab": {
          "base_uri": "https://localhost:8080/",
          "height": 472
        },
        "id": "qaV2m3IMWc6Z",
        "outputId": "d1ddfade-0fe7-4d25-8c0f-cd4c7449352b"
      },
      "outputs": [
        {
          "data": {
            "image/png": "[encoded data removed]",
            "text/plain": [
              "<Figure size 640x480 with 1 Axes>"
            ]
          },
          "metadata": {},
          "output_type": "display_data"
        }
      ],
      "source": [
        "plt.plot(['TF-IDF', 'Count Vectorizer'], [tfidf_avg_similarity, cv_avg_similarity])\n",
        "plt.title(\"Average similarity Score Comparison\")\n",
        "plt.xlabel(\"Vectorizer\")\n",
        "plt.ylabel(\"Similarity Score\")\n",
        "plt.show()"
      ]
    },
    {
      "cell_type": "code",
      "execution_count": 11,
      "metadata": {
        "colab": {
          "base_uri": "https://localhost:8080/"
        },
        "id": "5Jw8BTB_Wj3b",
        "outputId": "2baab4e5-b701-404a-d84f-eb213d455f38"
      },
      "outputs": [
        {
          "name": "stdout",
          "output_type": "stream",
          "text": [
            "0.04975710235102026   0.08578365819096362\n",
            "0.015614071286088693   0.019281271438424008\n"
          ]
        }
      ],
      "source": [
        "print(tfidf_avg_similarity,\" \",tfidf_silhouette_score)\n",
        "print(cv_avg_similarity,\" \",cv_silhouette_score)"
      ]
    },
    {
      "cell_type": "code",
      "execution_count": 14,
      "metadata": {
        "colab": {
          "base_uri": "https://localhost:8080/",
          "height": 962
        },
        "id": "Gum1UZjboavV",
        "outputId": "36cd012a-44c3-4967-b2e3-e555dab5f3c6"
      },
      "outputs": [
        {
          "data": {
            "text/html": [
              "\n",
              "  <div id=\"df-693be396-ff59-4c63-9c8a-94d83ec0045e\">\n",
              "    <div class=\"colab-df-container\">\n",
              "      <div>\n",
              "<style scoped>\n",
              "    .dataframe tbody tr th:only-of-type {\n",
              "        vertical-align: middle;\n",
              "    }\n",
              "\n",
              "    .dataframe tbody tr th {\n",
              "        vertical-align: top;\n",
              "    }\n",
              "\n",
              "    .dataframe thead th {\n",
              "        text-align: right;\n",
              "    }\n",
              "</style>\n",
              "<table border=\"1\" class=\"dataframe\">\n",
              "  <thead>\n",
              "    <tr style=\"text-align: right;\">\n",
              "      <th></th>\n",
              "      <th>Sno</th>\n",
              "      <th>Title</th>\n",
              "      <th>Stars</th>\n",
              "      <th>Link</th>\n",
              "      <th>tags</th>\n",
              "    </tr>\n",
              "  </thead>\n",
              "  <tbody>\n",
              "    <tr>\n",
              "      <th>19800</th>\n",
              "      <td>9838</td>\n",
              "      <td>SQL Server 2017 in 90 minutes</td>\n",
              "      <td>4.9</td>\n",
              "      <td>https://www.udemy.com/course/sql-server-2017-i...</td>\n",
              "      <td>SQL Server QuickView</td>\n",
              "    </tr>\n",
              "    <tr>\n",
              "      <th>19590</th>\n",
              "      <td>9628</td>\n",
              "      <td>Advance SQL in VB.Net :Design Database Apps in...</td>\n",
              "      <td>4.7</td>\n",
              "      <td>https://www.udemy.com/course/using-barcode-sca...</td>\n",
              "      <td>3 in 1: Barcode Scanner App in VB .net, Advanc...</td>\n",
              "    </tr>\n",
              "    <tr>\n",
              "      <th>18899</th>\n",
              "      <td>8937</td>\n",
              "      <td>SQL - Microsoft SQL Crash Course for Absolute ...</td>\n",
              "      <td>4.7</td>\n",
              "      <td>https://www.udemy.com/course/complete-microsof...</td>\n",
              "      <td>This Crash course uses Microsoft SQL Server. T...</td>\n",
              "    </tr>\n",
              "    <tr>\n",
              "      <th>19815</th>\n",
              "      <td>9853</td>\n",
              "      <td>Microsoft Access SQL: SQL from Absolute Beginn...</td>\n",
              "      <td>4.6</td>\n",
              "      <td>https://www.udemy.com/course/microsoft-access-...</td>\n",
              "      <td>SQL Using Microsoft Access 2019 but applicable...</td>\n",
              "    </tr>\n",
              "    <tr>\n",
              "      <th>23207</th>\n",
              "      <td>3281</td>\n",
              "      <td>Beginning SQL Server</td>\n",
              "      <td>4.5</td>\n",
              "      <td>https://www.coursera.org/learn/beginning-sql-s...</td>\n",
              "      <td>backup  sql server management studio  microsof...</td>\n",
              "    </tr>\n",
              "    <tr>\n",
              "      <th>16937</th>\n",
              "      <td>6975</td>\n",
              "      <td>Software Development Master Class for Absolute...</td>\n",
              "      <td>4.4</td>\n",
              "      <td>https://www.udemy.com/course/software-developm...</td>\n",
              "      <td>Basic Programming Concepts with .Net Core and C#</td>\n",
              "    </tr>\n",
              "    <tr>\n",
              "      <th>19374</th>\n",
              "      <td>9412</td>\n",
              "      <td>Perl Fundamentals</td>\n",
              "      <td>4.1</td>\n",
              "      <td>https://www.udemy.com/course/perl-fundamentals/</td>\n",
              "      <td>Perl Fundamentals</td>\n",
              "    </tr>\n",
              "    <tr>\n",
              "      <th>17755</th>\n",
              "      <td>7793</td>\n",
              "      <td>Learn Microsoft SQL Server from scratch</td>\n",
              "      <td>4.1</td>\n",
              "      <td>https://www.udemy.com/course/learn-microsoft-t...</td>\n",
              "      <td>Microsoft SQL Training</td>\n",
              "    </tr>\n",
              "    <tr>\n",
              "      <th>19498</th>\n",
              "      <td>9536</td>\n",
              "      <td>HTML5 &amp; CSS3 ♦ Build responsive website from s...</td>\n",
              "      <td>3.9</td>\n",
              "      <td>https://www.udemy.com/course/html-5-css-3-make...</td>\n",
              "      <td>Learn and summarize information about basic HT...</td>\n",
              "    </tr>\n",
              "    <tr>\n",
              "      <th>16212</th>\n",
              "      <td>6250</td>\n",
              "      <td>Perl Building Blocks - An Introduction to Perl</td>\n",
              "      <td>3.8</td>\n",
              "      <td>https://www.udemy.com/course/perlprogramming/</td>\n",
              "      <td>Learn About Perl Programming, Perl Functions, ...</td>\n",
              "    </tr>\n",
              "    <tr>\n",
              "      <th>18678</th>\n",
              "      <td>8716</td>\n",
              "      <td>Learn Basic Microsoft Razor with JQuery and Vi...</td>\n",
              "      <td>3.7</td>\n",
              "      <td>https://www.udemy.com/course/explorewebsitedev...</td>\n",
              "      <td>Learn the Fundamentals of Programming with Mic...</td>\n",
              "    </tr>\n",
              "    <tr>\n",
              "      <th>4721</th>\n",
              "      <td>4721</td>\n",
              "      <td>Basic Graphic Design with Photoshop!</td>\n",
              "      <td>3.7</td>\n",
              "      <td>https://www.udemy.com/course/basic-graphic-des...</td>\n",
              "      <td>basic photoshop tutoria</td>\n",
              "    </tr>\n",
              "    <tr>\n",
              "      <th>18701</th>\n",
              "      <td>8739</td>\n",
              "      <td>SQL Server DBA 2017 - Beginners to Moderate Le...</td>\n",
              "      <td>3.7</td>\n",
              "      <td>https://www.udemy.com/course/sql-server-dba-20...</td>\n",
              "      <td>SQL Server DBA</td>\n",
              "    </tr>\n",
              "    <tr>\n",
              "      <th>16694</th>\n",
              "      <td>6732</td>\n",
              "      <td>FULLSTACK Web Development- HANDS-ON 2020</td>\n",
              "      <td>3.6</td>\n",
              "      <td>https://www.udemy.com/course/web-development-m...</td>\n",
              "      <td>with HTML5, CSS3, PHP7, SQL, JavaScript, CGI-P...</td>\n",
              "    </tr>\n",
              "    <tr>\n",
              "      <th>14683</th>\n",
              "      <td>4721</td>\n",
              "      <td>Python 2 Course For Kids</td>\n",
              "      <td>2.3</td>\n",
              "      <td>https://www.udemy.com/course/the-python-course...</td>\n",
              "      <td>basic photoshop tutoria</td>\n",
              "    </tr>\n",
              "  </tbody>\n",
              "</table>\n",
              "</div>\n",
              "      <button class=\"colab-df-convert\" onclick=\"convertToInteractive('df-693be396-ff59-4c63-9c8a-94d83ec0045e')\"\n",
              "              title=\"Convert this dataframe to an interactive table.\"\n",
              "              style=\"display:none;\">\n",
              "        \n",
              "  <svg xmlns=\"http://www.w3.org/2000/svg\" height=\"24px\"viewBox=\"0 0 24 24\"\n",
              "       width=\"24px\">\n",
              "    <path d=\"M0 0h24v24H0V0z\" fill=\"none\"/>\n",
              "    <path d=\"M18.56 5.44l.94 2.06.94-2.06 2.06-.94-2.06-.94-.94-2.06-.94 2.06-2.06.94zm-11 1L8.5 8.5l.94-2.06 2.06-.94-2.06-.94L8.5 2.5l-.94 2.06-2.06.94zm10 10l.94 2.06.94-2.06 2.06-.94-2.06-.94-.94-2.06-.94 2.06-2.06.94z\"/><path d=\"M17.41 7.96l-1.37-1.37c-.4-.4-.92-.59-1.43-.59-.52 0-1.04.2-1.43.59L10.3 9.45l-7.72 7.72c-.78.78-.78 2.05 0 2.83L4 21.41c.39.39.9.59 1.41.59.51 0 1.02-.2 1.41-.59l7.78-7.78 2.81-2.81c.8-.78.8-2.07 0-2.86zM5.41 20L4 18.59l7.72-7.72 1.47 1.35L5.41 20z\"/>\n",
              "  </svg>\n",
              "      </button>\n",
              "      \n",
              "  <style>\n",
              "    .colab-df-container {\n",
              "      display:flex;\n",
              "      flex-wrap:wrap;\n",
              "      gap: 12px;\n",
              "    }\n",
              "\n",
              "    .colab-df-convert {\n",
              "      background-color: #E8F0FE;\n",
              "      border: none;\n",
              "      border-radius: 50%;\n",
              "      cursor: pointer;\n",
              "      display: none;\n",
              "      fill: #1967D2;\n",
              "      height: 32px;\n",
              "      padding: 0 0 0 0;\n",
              "      width: 32px;\n",
              "    }\n",
              "\n",
              "    .colab-df-convert:hover {\n",
              "      background-color: #E2EBFA;\n",
              "      box-shadow: 0px 1px 2px rgba(60, 64, 67, 0.3), 0px 1px 3px 1px rgba(60, 64, 67, 0.15);\n",
              "      fill: #174EA6;\n",
              "    }\n",
              "\n",
              "    [theme=dark] .colab-df-convert {\n",
              "      background-color: #3B4455;\n",
              "      fill: #D2E3FC;\n",
              "    }\n",
              "\n",
              "    [theme=dark] .colab-df-convert:hover {\n",
              "      background-color: #434B5C;\n",
              "      box-shadow: 0px 1px 3px 1px rgba(0, 0, 0, 0.15);\n",
              "      filter: drop-shadow(0px 1px 2px rgba(0, 0, 0, 0.3));\n",
              "      fill: #FFFFFF;\n",
              "    }\n",
              "  </style>\n",
              "\n",
              "      <script>\n",
              "        const buttonEl =\n",
              "          document.querySelector('#df-693be396-ff59-4c63-9c8a-94d83ec0045e button.colab-df-convert');\n",
              "        buttonEl.style.display =\n",
              "          google.colab.kernel.accessAllowed ? 'block' : 'none';\n",
              "\n",
              "        async function convertToInteractive(key) {\n",
              "          const element = document.querySelector('#df-693be396-ff59-4c63-9c8a-94d83ec0045e');\n",
              "          const dataTable =\n",
              "            await google.colab.kernel.invokeFunction('convertToInteractive',\n",
              "                                                     [key], {});\n",
              "          if (!dataTable) return;\n",
              "\n",
              "          const docLinkHtml = 'Like what you see? Visit the ' +\n",
              "            '<a target=\"_blank\" href=https://colab.research.google.com/notebooks/data_table.ipynb>data table notebook</a>'\n",
              "            + ' to learn more about interactive tables.';\n",
              "          element.innerHTML = '';\n",
              "          dataTable['output_type'] = 'display_data';\n",
              "          await google.colab.output.renderOutput(dataTable, element);\n",
              "          const docLink = document.createElement('div');\n",
              "          docLink.innerHTML = docLinkHtml;\n",
              "          element.appendChild(docLink);\n",
              "        }\n",
              "      </script>\n",
              "    </div>\n",
              "  </div>\n",
              "  "
            ],
            "text/plain": [
              "        Sno                                              Title Stars  \\\n",
              "19800  9838                      SQL Server 2017 in 90 minutes   4.9   \n",
              "19590  9628  Advance SQL in VB.Net :Design Database Apps in...   4.7   \n",
              "18899  8937  SQL - Microsoft SQL Crash Course for Absolute ...   4.7   \n",
              "19815  9853  Microsoft Access SQL: SQL from Absolute Beginn...   4.6   \n",
              "23207  3281                               Beginning SQL Server   4.5   \n",
              "16937  6975  Software Development Master Class for Absolute...   4.4   \n",
              "19374  9412                                  Perl Fundamentals   4.1   \n",
              "17755  7793            Learn Microsoft SQL Server from scratch   4.1   \n",
              "19498  9536  HTML5 & CSS3 ♦ Build responsive website from s...   3.9   \n",
              "16212  6250     Perl Building Blocks - An Introduction to Perl   3.8   \n",
              "18678  8716  Learn Basic Microsoft Razor with JQuery and Vi...   3.7   \n",
              "4721   4721               Basic Graphic Design with Photoshop!   3.7   \n",
              "18701  8739  SQL Server DBA 2017 - Beginners to Moderate Le...   3.7   \n",
              "16694  6732           FULLSTACK Web Development- HANDS-ON 2020   3.6   \n",
              "14683  4721                           Python 2 Course For Kids   2.3   \n",
              "\n",
              "                                                    Link  \\\n",
              "19800  https://www.udemy.com/course/sql-server-2017-i...   \n",
              "19590  https://www.udemy.com/course/using-barcode-sca...   \n",
              "18899  https://www.udemy.com/course/complete-microsof...   \n",
              "19815  https://www.udemy.com/course/microsoft-access-...   \n",
              "23207  https://www.coursera.org/learn/beginning-sql-s...   \n",
              "16937  https://www.udemy.com/course/software-developm...   \n",
              "19374    https://www.udemy.com/course/perl-fundamentals/   \n",
              "17755  https://www.udemy.com/course/learn-microsoft-t...   \n",
              "19498  https://www.udemy.com/course/html-5-css-3-make...   \n",
              "16212      https://www.udemy.com/course/perlprogramming/   \n",
              "18678  https://www.udemy.com/course/explorewebsitedev...   \n",
              "4721   https://www.udemy.com/course/basic-graphic-des...   \n",
              "18701  https://www.udemy.com/course/sql-server-dba-20...   \n",
              "16694  https://www.udemy.com/course/web-development-m...   \n",
              "14683  https://www.udemy.com/course/the-python-course...   \n",
              "\n",
              "                                                    tags  \n",
              "19800                               SQL Server QuickView  \n",
              "19590  3 in 1: Barcode Scanner App in VB .net, Advanc...  \n",
              "18899  This Crash course uses Microsoft SQL Server. T...  \n",
              "19815  SQL Using Microsoft Access 2019 but applicable...  \n",
              "23207  backup  sql server management studio  microsof...  \n",
              "16937   Basic Programming Concepts with .Net Core and C#  \n",
              "19374                                  Perl Fundamentals  \n",
              "17755                             Microsoft SQL Training  \n",
              "19498  Learn and summarize information about basic HT...  \n",
              "16212  Learn About Perl Programming, Perl Functions, ...  \n",
              "18678  Learn the Fundamentals of Programming with Mic...  \n",
              "4721                             basic photoshop tutoria  \n",
              "18701                                     SQL Server DBA  \n",
              "16694  with HTML5, CSS3, PHP7, SQL, JavaScript, CGI-P...  \n",
              "14683                            basic photoshop tutoria  "
            ]
          },
          "execution_count": 14,
          "metadata": {},
          "output_type": "execute_result"
        }
      ],
      "source": [
        "recommedations_1"
      ]
    },
    {
      "cell_type": "code",
      "execution_count": null,
      "metadata": {
        "id": "y2fXv9eKJvQ1"
      },
      "outputs": [],
      "source": []
    }
  ],
  "metadata": {
    "colab": {
      "provenance": []
    },
    "kernelspec": {
      "display_name": "Python 3",
      "name": "python3"
    },
    "language_info": {
      "name": "python"
    }
  },
  "nbformat": 4,
  "nbformat_minor": 0
}
