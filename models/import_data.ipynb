{
 "cells": [
  {
   "cell_type": "code",
   "execution_count": 1,
   "metadata": {},
   "outputs": [],
   "source": [
    "import pandas as pd\n",
    "data=pd.read_csv('../data/cleaned_related_skills.csv')"
   ]
  },
  {
   "cell_type": "code",
   "execution_count": 2,
   "metadata": {},
   "outputs": [],
   "source": [
    "domain=[]\n",
    "for i in range(len(data)):\n",
    "    temp_list=[]\n",
    "    temp_list.append(str(data.iloc[i]['related_1']))\n",
    "    temp_list.append(str(data.iloc[i]['related_2']))\n",
    "    temp_list.append(str(data.iloc[i]['related_3']))\n",
    "    temp_list.append(str(data.iloc[i]['related_4']))\n",
    "    temp_list.append(str(data.iloc[i]['related_5']))\n",
    "    temp_list.append(str(data.iloc[i]['related_6']))\n",
    "    temp_list.append(str(data.iloc[i]['related_7']))\n",
    "    temp_list.append(str(data.iloc[i]['related_8']))\n",
    "    temp_list.append(str(data.iloc[i]['related_9']))\n",
    "    temp_list.append(str(data.iloc[i]['related_10']))\n",
    "    domain.append(temp_list)\n",
    "    "
   ]
  },
  {
   "cell_type": "code",
   "execution_count": 3,
   "metadata": {},
   "outputs": [],
   "source": [
    "import pickle\n",
    "file=\"data.pkl\"\n",
    "fileobj=open(file,'wb')\n",
    "pickle.dump(domain,fileobj)"
   ]
  },
  {
   "cell_type": "code",
   "execution_count": null,
   "metadata": {},
   "outputs": [],
   "source": []
  }
 ],
 "metadata": {
  "kernelspec": {
   "display_name": "base",
   "language": "python",
   "name": "python3"
  },
  "language_info": {
   "codemirror_mode": {
    "name": "ipython",
    "version": 3
   },
   "file_extension": ".py",
   "mimetype": "text/x-python",
   "name": "python",
   "nbconvert_exporter": "python",
   "pygments_lexer": "ipython3",
   "version": "3.8.5"
  },
  "orig_nbformat": 4
 },
 "nbformat": 4,
 "nbformat_minor": 2
}
